{
  "nbformat": 4,
  "nbformat_minor": 0,
  "metadata": {
    "colab": {
      "provenance": [],
      "include_colab_link": true
    },
    "kernelspec": {
      "name": "python3",
      "display_name": "Python 3"
    },
    "language_info": {
      "name": "python"
    }
  },
  "cells": [
    {
      "cell_type": "markdown",
      "metadata": {
        "id": "view-in-github",
        "colab_type": "text"
      },
      "source": [
        "<a href=\"https://colab.research.google.com/github/Mari-ang/payton1/blob/main/Clase_1_python_intermedio.ipynb\" target=\"_parent\"><img src=\"https://colab.research.google.com/assets/colab-badge.svg\" alt=\"Open In Colab\"/></a>"
      ]
    },
    {
      "cell_type": "markdown",
      "source": [
        "# Ejercicios de Manejo de Errores en Python\n"
      ],
      "metadata": {
        "id": "1QrEW-XMwlAr"
      }
    },
    {
      "cell_type": "markdown",
      "source": [
        "Ejercicio 1 – Raíz cuadrada segura\n",
        "\n",
        "Objetivo:\n",
        "Crear un programa que pida un número al usuario y muestre su raíz cuadrada.\n",
        "\n",
        "Si el usuario ingresa texto, manejar ValueError.\n",
        "\n",
        "Si el usuario ingresa un número negativo, lanzar un ValueError personalizado."
      ],
      "metadata": {
        "id": "WZNHABBFwpdV"
      }
    },
    {
      "cell_type": "code",
      "execution_count": null,
      "metadata": {
        "id": "1Z8Md4O8vsxK"
      },
      "outputs": [],
      "source": [
        "# TODO: Pide un número y calcula su raíz cuadrada\n",
        "# - Maneja si el usuario no ingresa un número (ValueError)\n",
        "# - Si el número es negativo, muestra un error personalizado\n"
      ]
    },
    {
      "cell_type": "markdown",
      "source": [
        "import math\n",
        "\n",
        " math.sqrt(numero)"
      ],
      "metadata": {
        "id": "mxyEpPq4wxjj"
      }
    },
    {
      "cell_type": "markdown",
      "source": [
        "Ejercicio 2 – Calculadora con errores\n",
        "\n",
        "Objetivo:\n",
        "Pedir al usuario dos números y una operación (+, -, *, /).\n",
        "\n",
        "Realizar la operación elegida.\n",
        "\n",
        "Manejar división entre cero (ZeroDivisionError).\n",
        "\n",
        "Manejar si la operación no es válida (error personalizado con raise)."
      ],
      "metadata": {
        "id": "c3_QVPd5w5Ka"
      }
    },
    {
      "cell_type": "code",
      "source": [
        "# TODO: Pide dos números y una operación (+, -, *, /)\n",
        "# - Realiza la operación\n",
        "# - Maneja división entre cero\n",
        "# - Si la operación no es válida, lanza un error personalizado\n"
      ],
      "metadata": {
        "id": "xLZICE5Yw-xW"
      },
      "execution_count": null,
      "outputs": []
    },
    {
      "cell_type": "markdown",
      "source": [
        "Ejercicio 3 – Lista segura\n",
        "\n",
        "Objetivo:\n",
        "Crear una lista con 5 elementos [10, 20, 30, 40, 50].\n",
        "\n",
        "Pedir al usuario un índice y mostrar el valor.\n",
        "\n",
        "Manejar si el índice no es un número (ValueError).\n",
        "\n",
        "Manejar si el índice está fuera de rango (IndexError)."
      ],
      "metadata": {
        "id": "fWtL6ub1xA4L"
      }
    },
    {
      "cell_type": "code",
      "source": [
        "# TODO: Crea una lista con 5 elementos\n",
        "# - Pide al usuario un índice\n",
        "# - Imprime el valor correspondiente\n",
        "# - Maneja errores de índice fuera de rango o de valor inválido\n"
      ],
      "metadata": {
        "id": "e-Xb18VbxCV0"
      },
      "execution_count": null,
      "outputs": []
    },
    {
      "cell_type": "markdown",
      "source": [
        "Ejercicio 4 – Diccionario seguro\n",
        "\n",
        "Objetivo:\n",
        "Crear un diccionario con 3 alumnos y sus calificaciones.\n",
        "\n",
        "Pedir al usuario el nombre de un alumno y mostrar su calificación.\n",
        "\n",
        "Manejar si el alumno no existe en el diccionario (KeyError)."
      ],
      "metadata": {
        "id": "CqjPa4FdxENw"
      }
    },
    {
      "cell_type": "code",
      "source": [
        "# TODO: Crea un diccionario con 3 alumnos y sus calificaciones\n",
        "# - Pide un nombre al usuario\n",
        "# - Muestra la calificación correspondiente\n",
        "# - Maneja el error si el alumno no existe en el diccionario\n"
      ],
      "metadata": {
        "id": "dDi4t2VpxGLZ"
      },
      "execution_count": null,
      "outputs": []
    },
    {
      "cell_type": "markdown",
      "source": [
        "Ejercicio 5\n",
        "\n",
        "Objetivo: Practicar try, except, else y finally."
      ],
      "metadata": {
        "id": "j1P3bDMixc7Z"
      }
    },
    {
      "cell_type": "code",
      "source": [
        "# Ejercicio 5\n",
        "# Crea un programa que pida dos números al usuario y realice una división.\n",
        "# Si el usuario ingresa un valor no numérico, debe mostrar un error.\n",
        "# Si el usuario intenta dividir entre 0, también debe mostrar un error.\n",
        "# Usa else para mostrar el resultado cuando todo salga bien.\n",
        "# Usa finally para imprimir \"Operación finalizada\".\n",
        "\n",
        "# Tu código aquí:\n"
      ],
      "metadata": {
        "id": "BSES5MTixeb8"
      },
      "execution_count": null,
      "outputs": []
    },
    {
      "cell_type": "markdown",
      "source": [
        "Ejercicio 6\n",
        "\n",
        "Objetivo: Manejar errores con listas e índices."
      ],
      "metadata": {
        "id": "-_5mPDpAxiCx"
      }
    },
    {
      "cell_type": "code",
      "source": [
        "# Ejercicio 6\n",
        "# Crea una lista de 5 elementos.\n",
        "# Pide al usuario que ingrese un índice y muestra el elemento en esa posición.\n",
        "# Maneja el error si el usuario escribe un índice fuera de rango o un valor no numérico.\n"
      ],
      "metadata": {
        "id": "AGP3SzutxjLk"
      },
      "execution_count": null,
      "outputs": []
    },
    {
      "cell_type": "markdown",
      "source": [
        "Ejercicio 7\n",
        "\n",
        "Objetivo: Lanzar errores personalizados con raise."
      ],
      "metadata": {
        "id": "GwCcyLrixn9I"
      }
    },
    {
      "cell_type": "code",
      "source": [
        "# Ejercicio 7\n",
        "# Pide al usuario que ingrese su edad.\n",
        "# Si el usuario ingresa un número negativo, lanza un error con raise ValueError.\n",
        "# Captura el error y muestra un mensaje adecuado.\n"
      ],
      "metadata": {
        "id": "6zxJxsmVxpQG"
      },
      "execution_count": null,
      "outputs": []
    },
    {
      "cell_type": "markdown",
      "source": [
        "Ejercicio 8\n",
        "\n",
        "Objetivo: Combinar varios tipos de errores en un solo bloque."
      ],
      "metadata": {
        "id": "AT7DmxxMxq5f"
      }
    },
    {
      "cell_type": "code",
      "source": [
        "# Ejercicio 8\n",
        "print(\"hola\")\n",
        "# Pide al usuario que ingrese dos números y súmalos.\n",
        "# Maneja los siguientes casos:\n",
        "# - Si ingresa algo que no es número, muestra un mensaje.\n",
        "# - Si la suma es mayor a 100, lanza un error personalizado con raise.\n"
      ],
      "metadata": {
        "id": "VP1f2LkExsA8",
        "outputId": "e2d6c987-26fc-4e4d-bc95-63cfc39bd93c",
        "colab": {
          "base_uri": "https://localhost:8080/"
        }
      },
      "execution_count": 2,
      "outputs": [
        {
          "output_type": "stream",
          "name": "stdout",
          "text": [
            "hola\n"
          ]
        }
      ]
    },
    {
      "cell_type": "markdown",
      "source": [
        "# LAMBDA"
      ],
      "metadata": {
        "id": "h6PwymPn-P5H"
      }
    },
    {
      "cell_type": "code",
      "source": [
        "Ejercicio A1 — Map: cuadrados"
      ],
      "metadata": {
        "id": "YiIrLjt9-RwQ"
      },
      "execution_count": null,
      "outputs": []
    },
    {
      "cell_type": "code",
      "source": [
        "# Ejercicio A1\n",
        "# Objetivo: usar map y lambda para elevar cada número de la lista al cuadrado\n",
        "\n",
        "numeros = [1, 2, 3, 4, 5]\n",
        "\n",
        "# Completa la lambda para calcular el cuadrado\n",
        "cuadrados = list(map(__________, numeros))\n",
        "\n",
        "print(cuadrados)  # Esperado: [1, 4, 9, 16, 25]\n"
      ],
      "metadata": {
        "id": "v5kXnuKY-TYF"
      },
      "execution_count": null,
      "outputs": []
    },
    {
      "cell_type": "markdown",
      "source": [
        "Ejercicio B1 — Map: cubos"
      ],
      "metadata": {
        "id": "ZhM654ba-Vt0"
      }
    },
    {
      "cell_type": "code",
      "source": [
        "# Ejercicio B1\n",
        "# Objetivo: usar map y lambda para elevar cada número de la lista al cubo\n",
        "\n",
        "numeros = [1, 2, 3, 4]\n",
        "\n",
        "# Escribe tu código aquí\n",
        "# Debes crear una función lambda y aplicarla con map\n"
      ],
      "metadata": {
        "id": "w730fGuj-Yiz"
      },
      "execution_count": null,
      "outputs": []
    },
    {
      "cell_type": "markdown",
      "source": [
        "Ejercicio A2 — Filter: pares"
      ],
      "metadata": {
        "id": "qNZpr6pr-bFv"
      }
    },
    {
      "cell_type": "code",
      "source": [
        "# Ejercicio A2\n",
        "# Objetivo: usar filter y lambda para quedarse solo con los números pares de la lista\n",
        "\n",
        "numeros = [1, 2, 3, 4, 5, 6]\n",
        "\n",
        "# Completa la lambda para filtrar los pares\n",
        "pares = list(filter(__________, numeros))\n",
        "\n",
        "print(pares)  # Esperado: [2, 4, 6]\n"
      ],
      "metadata": {
        "id": "h-ohd0Ao-cUs"
      },
      "execution_count": null,
      "outputs": []
    },
    {
      "cell_type": "markdown",
      "source": [
        "Ejercicio B2 — Filter: mayores a 10"
      ],
      "metadata": {
        "id": "vXeUE1I6-d8f"
      }
    },
    {
      "cell_type": "code",
      "source": [
        "# Ejercicio B2\n",
        "# Objetivo: usar filter y lambda para quedarse solo con los números mayores a 10\n",
        "\n",
        "numeros = [5, 12, 7, 15, 9, 20]\n",
        "\n",
        "# Escribe tu código aquí\n",
        "# Solo debes usar lambda y filter para obtener los números mayores a 10\n"
      ],
      "metadata": {
        "id": "TkqqgKoO-fCe"
      },
      "execution_count": null,
      "outputs": []
    },
    {
      "cell_type": "markdown",
      "source": [
        "Ejercicio A3 — Map + Filter: cuadrados de números pares"
      ],
      "metadata": {
        "id": "eoxGba7z-q98"
      }
    },
    {
      "cell_type": "code",
      "source": [
        "# Ejercicio A3\n",
        "# Objetivo: primero filtrar los números pares y luego elevarlos al cuadrado usando map y lambda\n",
        "\n",
        "numeros = [1, 2, 3, 4, 5, 6, 7, 8]\n",
        "\n",
        "# Completa el código usando filter para pares y luego map para elevar al cuadrado\n",
        "pares_cuadrados = list(map(__________, filter(__________, numeros)))\n",
        "\n",
        "print(pares_cuadrados)  # Esperado: [4, 16, 36, 64]\n"
      ],
      "metadata": {
        "id": "4Jf5hVmY-r8O"
      },
      "execution_count": null,
      "outputs": []
    },
    {
      "cell_type": "markdown",
      "source": [
        "Ejercicio B3 — Map + Filter: cubos de números mayores a 5"
      ],
      "metadata": {
        "id": "GHdMTB51-toL"
      }
    },
    {
      "cell_type": "code",
      "source": [
        "# Ejercicio B3\n",
        "# Objetivo: primero filtrar los números mayores a 5 y luego elevarlos al cubo usando map y lambda\n",
        "\n",
        "numeros = [2, 5, 6, 8, 3, 10]\n",
        "\n",
        "# Escribe tu código aquí\n",
        "# Solo debes usar filter y map con lambda para obtener los cubos de los números mayores a 5\n"
      ],
      "metadata": {
        "id": "mEKxXSlq-umU"
      },
      "execution_count": null,
      "outputs": []
    },
    {
      "cell_type": "markdown",
      "source": [
        "Ejercicio A4 — Map + Filter: palabras largas"
      ],
      "metadata": {
        "id": "MxAS7uzm-was"
      }
    },
    {
      "cell_type": "code",
      "source": [
        "# Ejercicio A4\n",
        "# Objetivo: filtrar palabras con más de 4 letras y convertirlas a mayúsculas usando map y lambda\n",
        "\n",
        "palabras = [\"sol\", \"luna\", \"estrella\", \"mar\", \"cielo\"]\n",
        "\n",
        "# Completa el código usando filter para palabras largas y luego map para convertir a mayúsculas\n",
        "palabras_mayus = list(map(__________, filter(__________, palabras)))\n",
        "\n",
        "print(palabras_mayus)  # Esperado: ['ESTRELLA', 'CIELO']\n"
      ],
      "metadata": {
        "id": "SnBDrLo4-xbM"
      },
      "execution_count": null,
      "outputs": []
    },
    {
      "cell_type": "markdown",
      "source": [
        "Ejercicio B4 — Map + Filter: dobles de números impares"
      ],
      "metadata": {
        "id": "S8U5JHn0-zEP"
      }
    },
    {
      "cell_type": "code",
      "source": [
        "# Ejercicio B4\n",
        "# Objetivo: primero filtrar los números impares y luego multiplicarlos por 2 usando map y lambda\n",
        "\n",
        "numeros = [1, 2, 3, 4, 5, 6, 7]\n",
        "\n",
        "# Escribe tu código aquí\n",
        "# Debes usar filter para los impares y map para multiplicarlos por 2\n"
      ],
      "metadata": {
        "id": "8JktGLVi-z-Q"
      },
      "execution_count": null,
      "outputs": []
    }
  ]
}